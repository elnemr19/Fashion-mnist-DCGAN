{
 "cells": [
  {
   "cell_type": "code",
   "execution_count": 1,
   "id": "77d0eca7",
   "metadata": {
    "execution": {
     "iopub.execute_input": "2024-12-24T12:42:14.031664Z",
     "iopub.status.busy": "2024-12-24T12:42:14.031277Z",
     "iopub.status.idle": "2024-12-24T12:42:22.251117Z",
     "shell.execute_reply": "2024-12-24T12:42:22.250289Z"
    },
    "papermill": {
     "duration": 8.227433,
     "end_time": "2024-12-24T12:42:22.252672",
     "exception": false,
     "start_time": "2024-12-24T12:42:14.025239",
     "status": "completed"
    },
    "tags": []
   },
   "outputs": [],
   "source": [
    "import numpy as np\n",
    "import matplotlib.pyplot as plt\n",
    "from keras import preprocessing\n",
    "from keras import layers\n",
    "from keras.models import Sequential\n",
    "from keras.layers import Conv2D,Dropout,Dense,Flatten,Conv2DTranspose,BatchNormalization,LeakyReLU,Reshape\n",
    "import tensorflow as tf"
   ]
  },
  {
   "cell_type": "code",
   "execution_count": 2,
   "id": "e78482e7",
   "metadata": {
    "execution": {
     "iopub.execute_input": "2024-12-24T12:42:22.262883Z",
     "iopub.status.busy": "2024-12-24T12:42:22.262414Z",
     "iopub.status.idle": "2024-12-24T12:42:23.448098Z",
     "shell.execute_reply": "2024-12-24T12:42:23.447237Z"
    },
    "papermill": {
     "duration": 1.192085,
     "end_time": "2024-12-24T12:42:23.449579",
     "exception": false,
     "start_time": "2024-12-24T12:42:22.257494",
     "status": "completed"
    },
    "tags": []
   },
   "outputs": [
    {
     "name": "stdout",
     "output_type": "stream",
     "text": [
      "Downloading data from https://storage.googleapis.com/tensorflow/tf-keras-datasets/train-labels-idx1-ubyte.gz\n",
      "\u001b[1m29515/29515\u001b[0m \u001b[32m━━━━━━━━━━━━━━━━━━━━\u001b[0m\u001b[37m\u001b[0m \u001b[1m0s\u001b[0m 0us/step\n",
      "Downloading data from https://storage.googleapis.com/tensorflow/tf-keras-datasets/train-images-idx3-ubyte.gz\n",
      "\u001b[1m26421880/26421880\u001b[0m \u001b[32m━━━━━━━━━━━━━━━━━━━━\u001b[0m\u001b[37m\u001b[0m \u001b[1m0s\u001b[0m 0us/step\n",
      "Downloading data from https://storage.googleapis.com/tensorflow/tf-keras-datasets/t10k-labels-idx1-ubyte.gz\n",
      "\u001b[1m5148/5148\u001b[0m \u001b[32m━━━━━━━━━━━━━━━━━━━━\u001b[0m\u001b[37m\u001b[0m \u001b[1m0s\u001b[0m 0us/step\n",
      "Downloading data from https://storage.googleapis.com/tensorflow/tf-keras-datasets/t10k-images-idx3-ubyte.gz\n",
      "\u001b[1m4422102/4422102\u001b[0m \u001b[32m━━━━━━━━━━━━━━━━━━━━\u001b[0m\u001b[37m\u001b[0m \u001b[1m0s\u001b[0m 0us/step\n"
     ]
    },
    {
     "data": {
      "text/plain": [
       "<matplotlib.image.AxesImage at 0x790ef5f871f0>"
      ]
     },
     "execution_count": 2,
     "metadata": {},
     "output_type": "execute_result"
    },
    {
     "data": {
      "image/png": "[encoded data removed]",
      "text/plain": [
       "<Figure size 640x480 with 1 Axes>"
      ]
     },
     "metadata": {},
     "output_type": "display_data"
    }
   ],
   "source": [
    "(X_train, y_train),(X_test, y_test) = tf.keras.datasets.fashion_mnist.load_data()\n",
    "plt.imshow(X_train[0])"
   ]
  },
  {
   "cell_type": "code",
   "execution_count": null,
   "id": "0f6e606b",
   "metadata": {
    "papermill": {
     "duration": 0.005314,
     "end_time": "2024-12-24T12:42:23.460602",
     "exception": false,
     "start_time": "2024-12-24T12:42:23.455288",
     "status": "completed"
    },
    "tags": []
   },
   "outputs": [],
   "source": []
  },
  {
   "cell_type": "markdown",
   "id": "3cdd2250",
   "metadata": {
    "papermill": {
     "duration": 0.005056,
     "end_time": "2024-12-24T12:42:23.470831",
     "exception": false,
     "start_time": "2024-12-24T12:42:23.465775",
     "status": "completed"
    },
    "tags": []
   },
   "source": [
    "`I will take half dataset only`"
   ]
  },
  {
   "cell_type": "code",
   "execution_count": 3,
   "id": "116004f5",
   "metadata": {
    "execution": {
     "iopub.execute_input": "2024-12-24T12:42:23.482373Z",
     "iopub.status.busy": "2024-12-24T12:42:23.482118Z",
     "iopub.status.idle": "2024-12-24T12:42:23.502752Z",
     "shell.execute_reply": "2024-12-24T12:42:23.502072Z"
    },
    "papermill": {
     "duration": 0.027889,
     "end_time": "2024-12-24T12:42:23.504119",
     "exception": false,
     "start_time": "2024-12-24T12:42:23.476230",
     "status": "completed"
    },
    "tags": []
   },
   "outputs": [],
   "source": [
    "indices = np.random.permutation(X_train.shape[0])\n",
    "X_train = X_train[indices[:len(X_train)//2]]"
   ]
  },
  {
   "cell_type": "code",
   "execution_count": 4,
   "id": "15ae994b",
   "metadata": {
    "execution": {
     "iopub.execute_input": "2024-12-24T12:42:23.515577Z",
     "iopub.status.busy": "2024-12-24T12:42:23.515312Z",
     "iopub.status.idle": "2024-12-24T12:42:23.579122Z",
     "shell.execute_reply": "2024-12-24T12:42:23.578316Z"
    },
    "papermill": {
     "duration": 0.070988,
     "end_time": "2024-12-24T12:42:23.580576",
     "exception": false,
     "start_time": "2024-12-24T12:42:23.509588",
     "status": "completed"
    },
    "tags": []
   },
   "outputs": [
    {
     "data": {
      "text/plain": [
       "(30000, 28, 28, 1)"
      ]
     },
     "execution_count": 4,
     "metadata": {},
     "output_type": "execute_result"
    }
   ],
   "source": [
    "X_train = X_train.reshape(X_train.shape[0], 28, 28, 1).astype('float32')\n",
    "X_train = (X_train - 127.5) / 127.5\n",
    "X_train.shape"
   ]
  },
  {
   "cell_type": "code",
   "execution_count": 5,
   "id": "c821297f",
   "metadata": {
    "execution": {
     "iopub.execute_input": "2024-12-24T12:42:23.592379Z",
     "iopub.status.busy": "2024-12-24T12:42:23.592124Z",
     "iopub.status.idle": "2024-12-24T12:42:24.071757Z",
     "shell.execute_reply": "2024-12-24T12:42:24.070975Z"
    },
    "papermill": {
     "duration": 0.487049,
     "end_time": "2024-12-24T12:42:24.073250",
     "exception": false,
     "start_time": "2024-12-24T12:42:23.586201",
     "status": "completed"
    },
    "tags": []
   },
   "outputs": [
    {
     "data": {
      "image/png": "[encoded data removed]",
      "text/plain": [
       "<Figure size 640x480 with 4 Axes>"
      ]
     },
     "metadata": {},
     "output_type": "display_data"
    }
   ],
   "source": [
    "fig,axe=plt.subplots(2,2)\n",
    "idx = 0\n",
    "for i in range(2):\n",
    "    for j in range(2):\n",
    "        axe[i,j].imshow(X_train[idx].reshape(28,28),cmap='gray')\n",
    "        idx+=1"
   ]
  },
  {
   "cell_type": "code",
   "execution_count": 6,
   "id": "867591f5",
   "metadata": {
    "execution": {
     "iopub.execute_input": "2024-12-24T12:42:24.086270Z",
     "iopub.status.busy": "2024-12-24T12:42:24.086019Z",
     "iopub.status.idle": "2024-12-24T12:42:24.105850Z",
     "shell.execute_reply": "2024-12-24T12:42:24.105029Z"
    },
    "papermill": {
     "duration": 0.027811,
     "end_time": "2024-12-24T12:42:24.107107",
     "exception": false,
     "start_time": "2024-12-24T12:42:24.079296",
     "status": "completed"
    },
    "tags": []
   },
   "outputs": [
    {
     "data": {
      "text/plain": [
       "(1.0, -1.0)"
      ]
     },
     "execution_count": 6,
     "metadata": {},
     "output_type": "execute_result"
    }
   ],
   "source": [
    "X_train.max(),X_train.min()"
   ]
  },
  {
   "cell_type": "code",
   "execution_count": 7,
   "id": "70ad656d",
   "metadata": {
    "execution": {
     "iopub.execute_input": "2024-12-24T12:42:24.119280Z",
     "iopub.status.busy": "2024-12-24T12:42:24.119070Z",
     "iopub.status.idle": "2024-12-24T12:42:25.184253Z",
     "shell.execute_reply": "2024-12-24T12:42:25.183426Z"
    },
    "papermill": {
     "duration": 1.073289,
     "end_time": "2024-12-24T12:42:25.186182",
     "exception": false,
     "start_time": "2024-12-24T12:42:24.112893",
     "status": "completed"
    },
    "tags": []
   },
   "outputs": [
    {
     "data": {
      "image/png": "[encoded data removed]",
      "text/plain": [
       "<Figure size 2000x2000 with 36 Axes>"
      ]
     },
     "metadata": {},
     "output_type": "display_data"
    }
   ],
   "source": [
    "plt.figure(figsize=(20,20))\n",
    "\n",
    "for n , i in enumerate(np.random.randint(0,len(X_train),36)) :\n",
    "    plt.subplot(6,6,n+1)\n",
    "    plt.imshow(X_train[i] ,cmap ='gray')\n",
    "    plt.axis('off')\n"
   ]
  },
  {
   "cell_type": "code",
   "execution_count": 8,
   "id": "25de22dc",
   "metadata": {
    "execution": {
     "iopub.execute_input": "2024-12-24T12:42:25.202422Z",
     "iopub.status.busy": "2024-12-24T12:42:25.202176Z",
     "iopub.status.idle": "2024-12-24T12:42:25.205186Z",
     "shell.execute_reply": "2024-12-24T12:42:25.204615Z"
    },
    "papermill": {
     "duration": 0.012194,
     "end_time": "2024-12-24T12:42:25.206501",
     "exception": false,
     "start_time": "2024-12-24T12:42:25.194307",
     "status": "completed"
    },
    "tags": []
   },
   "outputs": [],
   "source": [
    "noise_dim =100\n",
    "epochs =200\n",
    "BATCH_SIZE = 128\n",
    "lambda_gp = 10\n",
    "img_size= 28"
   ]
  },
  {
   "cell_type": "code",
   "execution_count": 9,
   "id": "3a457ee1",
   "metadata": {
    "execution": {
     "iopub.execute_input": "2024-12-24T12:42:25.221710Z",
     "iopub.status.busy": "2024-12-24T12:42:25.221507Z",
     "iopub.status.idle": "2024-12-24T12:42:26.032334Z",
     "shell.execute_reply": "2024-12-24T12:42:26.031660Z"
    },
    "papermill": {
     "duration": 0.819974,
     "end_time": "2024-12-24T12:42:26.033894",
     "exception": false,
     "start_time": "2024-12-24T12:42:25.213920",
     "status": "completed"
    },
    "tags": []
   },
   "outputs": [],
   "source": [
    "dataset = tf.data.Dataset.from_tensor_slices(X_train)\n",
    "dataset = dataset.shuffle(buffer_size=1024).batch(BATCH_SIZE)"
   ]
  },
  {
   "cell_type": "code",
   "execution_count": null,
   "id": "c4ab1754",
   "metadata": {
    "papermill": {
     "duration": 0.00784,
     "end_time": "2024-12-24T12:42:26.049411",
     "exception": false,
     "start_time": "2024-12-24T12:42:26.041571",
     "status": "completed"
    },
    "tags": []
   },
   "outputs": [],
   "source": []
  },
  {
   "cell_type": "markdown",
   "id": "b535a3f5",
   "metadata": {
    "papermill": {
     "duration": 0.006957,
     "end_time": "2024-12-24T12:42:26.063795",
     "exception": false,
     "start_time": "2024-12-24T12:42:26.056838",
     "status": "completed"
    },
    "tags": []
   },
   "source": [
    "* Generator"
   ]
  },
  {
   "cell_type": "code",
   "execution_count": 10,
   "id": "6d80fd98",
   "metadata": {
    "execution": {
     "iopub.execute_input": "2024-12-24T12:42:26.078832Z",
     "iopub.status.busy": "2024-12-24T12:42:26.078553Z",
     "iopub.status.idle": "2024-12-24T12:42:26.276417Z",
     "shell.execute_reply": "2024-12-24T12:42:26.275527Z"
    },
    "papermill": {
     "duration": 0.206952,
     "end_time": "2024-12-24T12:42:26.277690",
     "exception": false,
     "start_time": "2024-12-24T12:42:26.070738",
     "status": "completed"
    },
    "tags": []
   },
   "outputs": [],
   "source": [
    "def make_generator_model():\n",
    "    model = Sequential([\n",
    "        # Start with a dense layer and reshape to a smaller size\n",
    "        Dense(7 * 7 * 256, use_bias=False, input_shape=(noise_dim,)),\n",
    "        BatchNormalization(),\n",
    "        LeakyReLU(),\n",
    "\n",
    "        Reshape((7, 7, 256)),\n",
    "\n",
    "        # Upsample to 14x14\n",
    "        Conv2DTranspose(128, (5, 5), strides=(2, 2), padding='same', use_bias=False),\n",
    "        BatchNormalization(),\n",
    "        LeakyReLU(),\n",
    "\n",
    "        # Upsample to 28x28\n",
    "        Conv2DTranspose(64, (5, 5), strides=(2, 2), padding='same', use_bias=False),\n",
    "        BatchNormalization(),\n",
    "        LeakyReLU(),\n",
    "\n",
    "\n",
    "        # Final layer: produce output with shape (28, 28, 1)\n",
    "        Conv2DTranspose(1, (5, 5), strides=(1, 1), padding='same', use_bias=False, activation='tanh'),\n",
    "    ])\n",
    "    return model"
   ]
  },
  {
   "cell_type": "code",
   "execution_count": null,
   "id": "58aee93a",
   "metadata": {
    "papermill": {
     "duration": 0.00694,
     "end_time": "2024-12-24T12:42:26.292317",
     "exception": false,
     "start_time": "2024-12-24T12:42:26.285377",
     "status": "completed"
    },
    "tags": []
   },
   "outputs": [],
   "source": []
  },
  {
   "cell_type": "markdown",
   "id": "4a7ed7ac",
   "metadata": {
    "papermill": {
     "duration": 0.007,
     "end_time": "2024-12-24T12:42:26.306585",
     "exception": false,
     "start_time": "2024-12-24T12:42:26.299585",
     "status": "completed"
    },
    "tags": []
   },
   "source": [
    "* Discriminator"
   ]
  },
  {
   "cell_type": "code",
   "execution_count": 11,
   "id": "329eaff3",
   "metadata": {
    "execution": {
     "iopub.execute_input": "2024-12-24T12:42:26.321621Z",
     "iopub.status.busy": "2024-12-24T12:42:26.321299Z",
     "iopub.status.idle": "2024-12-24T12:42:26.325620Z",
     "shell.execute_reply": "2024-12-24T12:42:26.324827Z"
    },
    "papermill": {
     "duration": 0.013278,
     "end_time": "2024-12-24T12:42:26.326867",
     "exception": false,
     "start_time": "2024-12-24T12:42:26.313589",
     "status": "completed"
    },
    "tags": []
   },
   "outputs": [],
   "source": [
    "def make_discriminator_model():\n",
    "    model = Sequential([\n",
    "        Conv2D(64, (5, 5), strides=(2, 2), padding='same', input_shape=[img_size, img_size, 1]),\n",
    "        LeakyReLU(),\n",
    "        Dropout(0.3),\n",
    "\n",
    "        Conv2D(128, (5, 5), strides=(2, 2), padding='same'),\n",
    "        LeakyReLU(),\n",
    "        Dropout(0.3),\n",
    "\n",
    "        Conv2D(256, (5, 5), strides=(2, 2), padding='same'),\n",
    "        LeakyReLU(),\n",
    "        Dropout(0.3),\n",
    "\n",
    "        Flatten(),\n",
    "        Dense(1)\n",
    "    ])\n",
    "    return model"
   ]
  },
  {
   "cell_type": "code",
   "execution_count": null,
   "id": "12c3db43",
   "metadata": {
    "papermill": {
     "duration": 0.006915,
     "end_time": "2024-12-24T12:42:26.340882",
     "exception": false,
     "start_time": "2024-12-24T12:42:26.333967",
     "status": "completed"
    },
    "tags": []
   },
   "outputs": [],
   "source": []
  },
  {
   "cell_type": "code",
   "execution_count": 12,
   "id": "56202a43",
   "metadata": {
    "execution": {
     "iopub.execute_input": "2024-12-24T12:42:26.355733Z",
     "iopub.status.busy": "2024-12-24T12:42:26.355467Z",
     "iopub.status.idle": "2024-12-24T12:42:26.360018Z",
     "shell.execute_reply": "2024-12-24T12:42:26.359216Z"
    },
    "papermill": {
     "duration": 0.01353,
     "end_time": "2024-12-24T12:42:26.361440",
     "exception": false,
     "start_time": "2024-12-24T12:42:26.347910",
     "status": "completed"
    },
    "tags": []
   },
   "outputs": [],
   "source": [
    "def gradient_penalty(real_images, fake_images):\n",
    "    epsilon = tf.random.uniform([real_images.shape[0], 1, 1, 1], dtype=real_images.dtype)\n",
    "    interpolated = epsilon * real_images + (1 - epsilon) * fake_images\n",
    "    with tf.GradientTape() as tape:\n",
    "        tape.watch(interpolated)\n",
    "        pred = discriminator(interpolated)\n",
    "    gradients = tape.gradient(pred, [interpolated])[0]\n",
    "    norm = tf.sqrt(tf.reduce_sum(tf.square(gradients), axis=[1, 2, 3]))\n",
    "    penalty = tf.reduce_mean((norm - 1.0) ** 2)\n",
    "    return penalty"
   ]
  },
  {
   "cell_type": "code",
   "execution_count": null,
   "id": "90c3563d",
   "metadata": {
    "papermill": {
     "duration": 0.006797,
     "end_time": "2024-12-24T12:42:26.375257",
     "exception": false,
     "start_time": "2024-12-24T12:42:26.368460",
     "status": "completed"
    },
    "tags": []
   },
   "outputs": [],
   "source": []
  },
  {
   "cell_type": "code",
   "execution_count": 13,
   "id": "8d028cd7",
   "metadata": {
    "execution": {
     "iopub.execute_input": "2024-12-24T12:42:26.389817Z",
     "iopub.status.busy": "2024-12-24T12:42:26.389591Z",
     "iopub.status.idle": "2024-12-24T12:42:26.403577Z",
     "shell.execute_reply": "2024-12-24T12:42:26.402787Z"
    },
    "papermill": {
     "duration": 0.022713,
     "end_time": "2024-12-24T12:42:26.404884",
     "exception": false,
     "start_time": "2024-12-24T12:42:26.382171",
     "status": "completed"
    },
    "tags": []
   },
   "outputs": [],
   "source": [
    "def discriminator_loss(real_output, fake_output, gp):\n",
    "    real_loss = tf.reduce_mean(fake_output) - tf.reduce_mean(real_output)\n",
    "    total_loss = real_loss + lambda_gp * gp\n",
    "    return total_loss\n",
    "\n",
    "\n",
    "def generator_loss(fake_output):\n",
    "    return -tf.reduce_mean(fake_output)\n",
    "\n",
    "\n",
    "\n",
    "# Optimizers\n",
    "generator_optimizer = tf.keras.optimizers.Adam(1e-4, beta_1=0.5, beta_2=0.9)\n",
    "discriminator_optimizer = tf.keras.optimizers.Adam(1e-4, beta_1=0.5, beta_2=0.9)"
   ]
  },
  {
   "cell_type": "code",
   "execution_count": 14,
   "id": "37ba85f4",
   "metadata": {
    "execution": {
     "iopub.execute_input": "2024-12-24T12:42:26.419879Z",
     "iopub.status.busy": "2024-12-24T12:42:26.419661Z",
     "iopub.status.idle": "2024-12-24T12:42:26.545781Z",
     "shell.execute_reply": "2024-12-24T12:42:26.544862Z"
    },
    "papermill": {
     "duration": 0.135136,
     "end_time": "2024-12-24T12:42:26.547128",
     "exception": false,
     "start_time": "2024-12-24T12:42:26.411992",
     "status": "completed"
    },
    "tags": []
   },
   "outputs": [
    {
     "name": "stderr",
     "output_type": "stream",
     "text": [
      "/usr/local/lib/python3.10/dist-packages/keras/src/layers/core/dense.py:87: UserWarning: Do not pass an `input_shape`/`input_dim` argument to a layer. When using Sequential models, prefer using an `Input(shape)` object as the first layer in the model instead.\n",
      "  super().__init__(activity_regularizer=activity_regularizer, **kwargs)\n",
      "/usr/local/lib/python3.10/dist-packages/keras/src/layers/convolutional/base_conv.py:107: UserWarning: Do not pass an `input_shape`/`input_dim` argument to a layer. When using Sequential models, prefer using an `Input(shape)` object as the first layer in the model instead.\n",
      "  super().__init__(activity_regularizer=activity_regularizer, **kwargs)\n"
     ]
    }
   ],
   "source": [
    "generator = make_generator_model()\n",
    "discriminator = make_discriminator_model()"
   ]
  },
  {
   "cell_type": "code",
   "execution_count": 15,
   "id": "ee2581b5",
   "metadata": {
    "execution": {
     "iopub.execute_input": "2024-12-24T12:42:26.562538Z",
     "iopub.status.busy": "2024-12-24T12:42:26.562260Z",
     "iopub.status.idle": "2024-12-24T15:10:19.344616Z",
     "shell.execute_reply": "2024-12-24T15:10:19.343677Z"
    },
    "papermill": {
     "duration": 8872.81321,
     "end_time": "2024-12-24T15:10:19.367668",
     "exception": false,
     "start_time": "2024-12-24T12:42:26.554458",
     "status": "completed"
    },
    "tags": []
   },
   "outputs": [
    {
     "name": "stdout",
     "output_type": "stream",
     "text": [
      "Epoch 1/200 ========================================\n",
      "Generator loss: 4.2832, Discriminator loss: -2.3085\n",
      "Epoch 2/200 ========================================\n",
      "Generator loss: -5.7455, Discriminator loss: 1.0109\n",
      "Epoch 3/200 ========================================\n",
      "Generator loss: -2.9083, Discriminator loss: -0.1427\n",
      "Epoch 4/200 ========================================\n",
      "Generator loss: -1.5035, Discriminator loss: 0.3671\n",
      "Epoch 5/200 ========================================\n",
      "Generator loss: -2.9137, Discriminator loss: -0.5215\n",
      "Epoch 6/200 ========================================\n",
      "Generator loss: -2.0132, Discriminator loss: -1.3415\n",
      "Epoch 7/200 ========================================\n",
      "Generator loss: -1.7538, Discriminator loss: -1.2392\n",
      "Epoch 8/200 ========================================\n",
      "Generator loss: 0.3704, Discriminator loss: -2.2597\n",
      "Epoch 9/200 ========================================\n",
      "Generator loss: 0.5484, Discriminator loss: -2.3151\n",
      "Epoch 10/200 ========================================\n",
      "Generator loss: -0.0081, Discriminator loss: -0.3073\n",
      "Epoch 11/200 ========================================\n",
      "Generator loss: -1.4410, Discriminator loss: -0.5993\n",
      "Epoch 12/200 ========================================\n",
      "Generator loss: -1.5265, Discriminator loss: 1.5552\n",
      "Epoch 13/200 ========================================\n",
      "Generator loss: -0.8397, Discriminator loss: -1.2022\n",
      "Epoch 14/200 ========================================\n",
      "Generator loss: 0.3890, Discriminator loss: 1.6045\n",
      "Epoch 15/200 ========================================\n",
      "Generator loss: 2.1242, Discriminator loss: -1.4264\n",
      "Epoch 16/200 ========================================\n",
      "Generator loss: -0.8432, Discriminator loss: -0.2186\n",
      "Epoch 17/200 ========================================\n",
      "Generator loss: -2.4750, Discriminator loss: 0.0393\n",
      "Epoch 18/200 ========================================\n",
      "Generator loss: -1.4763, Discriminator loss: -1.3950\n",
      "Epoch 19/200 ========================================\n",
      "Generator loss: -0.3925, Discriminator loss: -0.3255\n",
      "Epoch 20/200 ========================================\n",
      "Generator loss: 2.7279, Discriminator loss: -0.9396\n",
      "Epoch 21/200 ========================================\n",
      "Generator loss: 0.2348, Discriminator loss: -0.0743\n",
      "Epoch 22/200 ========================================\n",
      "Generator loss: 1.4611, Discriminator loss: -0.0159\n",
      "Epoch 23/200 ========================================\n",
      "Generator loss: 0.5291, Discriminator loss: 1.1549\n",
      "Epoch 24/200 ========================================\n",
      "Generator loss: 1.2859, Discriminator loss: -1.5933\n",
      "Epoch 25/200 ========================================\n",
      "Generator loss: 0.6506, Discriminator loss: 1.8942\n",
      "Epoch 26/200 ========================================\n",
      "Generator loss: -0.3504, Discriminator loss: -0.5410\n",
      "Epoch 27/200 ========================================\n",
      "Generator loss: 2.5444, Discriminator loss: -0.8065\n",
      "Epoch 28/200 ========================================\n",
      "Generator loss: 0.5921, Discriminator loss: -0.3786\n",
      "Epoch 29/200 ========================================\n",
      "Generator loss: -3.5727, Discriminator loss: -1.4112\n",
      "Epoch 30/200 ========================================\n",
      "Generator loss: 2.5643, Discriminator loss: -1.4060\n",
      "Epoch 31/200 ========================================\n",
      "Generator loss: 1.4575, Discriminator loss: 0.3581\n",
      "Epoch 32/200 ========================================\n",
      "Generator loss: -1.0307, Discriminator loss: -1.9948\n",
      "Epoch 33/200 ========================================\n",
      "Generator loss: -0.5092, Discriminator loss: 0.2646\n",
      "Epoch 34/200 ========================================\n",
      "Generator loss: 5.6143, Discriminator loss: -2.2229\n",
      "Epoch 35/200 ========================================\n",
      "Generator loss: 6.3876, Discriminator loss: -1.2430\n",
      "Epoch 36/200 ========================================\n",
      "Generator loss: 5.1662, Discriminator loss: 0.5645\n",
      "Epoch 37/200 ========================================\n",
      "Generator loss: -3.1815, Discriminator loss: 1.0720\n",
      "Epoch 38/200 ========================================\n",
      "Generator loss: 1.8599, Discriminator loss: -0.9813\n",
      "Epoch 39/200 ========================================\n",
      "Generator loss: 3.3837, Discriminator loss: 0.2001\n",
      "Epoch 40/200 ========================================\n",
      "Generator loss: -1.0696, Discriminator loss: 0.1473\n",
      "Epoch 41/200 ========================================\n",
      "Generator loss: 3.8320, Discriminator loss: -1.0777\n",
      "Epoch 42/200 ========================================\n",
      "Generator loss: 2.1219, Discriminator loss: 0.4391\n",
      "Epoch 43/200 ========================================\n",
      "Generator loss: -0.0243, Discriminator loss: 1.3586\n",
      "Epoch 44/200 ========================================\n",
      "Generator loss: 0.0308, Discriminator loss: -0.3883\n",
      "Epoch 45/200 ========================================\n",
      "Generator loss: -1.9013, Discriminator loss: 0.8844\n",
      "Epoch 46/200 ========================================\n",
      "Generator loss: 0.6310, Discriminator loss: 0.4682\n",
      "Epoch 47/200 ========================================\n",
      "Generator loss: -0.2747, Discriminator loss: -1.3584\n",
      "Epoch 48/200 ========================================\n",
      "Generator loss: -1.6158, Discriminator loss: 0.1072\n",
      "Epoch 49/200 ========================================\n",
      "Generator loss: -1.8188, Discriminator loss: -1.7702\n",
      "Epoch 50/200 ========================================\n",
      "Generator loss: -1.1811, Discriminator loss: -2.0027\n",
      "Epoch 51/200 ========================================\n",
      "Generator loss: -0.3860, Discriminator loss: 1.3289\n",
      "Epoch 52/200 ========================================\n",
      "Generator loss: 0.7201, Discriminator loss: -2.5691\n",
      "Epoch 53/200 ========================================\n",
      "Generator loss: 4.6948, Discriminator loss: -1.9131\n",
      "Epoch 54/200 ========================================\n",
      "Generator loss: 5.3820, Discriminator loss: -3.0852\n",
      "Epoch 55/200 ========================================\n",
      "Generator loss: -1.3788, Discriminator loss: 0.0351\n",
      "Epoch 56/200 ========================================\n",
      "Generator loss: -0.2839, Discriminator loss: -1.4356\n",
      "Epoch 57/200 ========================================\n",
      "Generator loss: 1.0388, Discriminator loss: -0.9458\n",
      "Epoch 58/200 ========================================\n",
      "Generator loss: 2.4616, Discriminator loss: -2.4303\n",
      "Epoch 59/200 ========================================\n",
      "Generator loss: 2.7955, Discriminator loss: -0.1388\n",
      "Epoch 60/200 ========================================\n",
      "Generator loss: 1.2852, Discriminator loss: -1.5600\n",
      "Epoch 61/200 ========================================\n",
      "Generator loss: -2.4477, Discriminator loss: 0.4445\n",
      "Epoch 62/200 ========================================\n",
      "Generator loss: -1.2330, Discriminator loss: -1.9616\n",
      "Epoch 63/200 ========================================\n",
      "Generator loss: 5.0728, Discriminator loss: -2.7120\n",
      "Epoch 64/200 ========================================\n",
      "Generator loss: -4.4586, Discriminator loss: 1.4869\n",
      "Epoch 65/200 ========================================\n",
      "Generator loss: -2.1940, Discriminator loss: -1.3310\n",
      "Epoch 66/200 ========================================\n",
      "Generator loss: 5.3762, Discriminator loss: -1.0049\n",
      "Epoch 67/200 ========================================\n",
      "Generator loss: 0.6956, Discriminator loss: 0.4175\n",
      "Epoch 68/200 ========================================\n",
      "Generator loss: -0.5364, Discriminator loss: -0.2003\n",
      "Epoch 69/200 ========================================\n",
      "Generator loss: 0.8081, Discriminator loss: -0.3496\n",
      "Epoch 70/200 ========================================\n",
      "Generator loss: -1.9500, Discriminator loss: -0.0947\n",
      "Epoch 71/200 ========================================\n",
      "Generator loss: -1.0223, Discriminator loss: -0.4554\n",
      "Epoch 72/200 ========================================\n",
      "Generator loss: -0.3418, Discriminator loss: 0.5859\n",
      "Epoch 73/200 ========================================\n",
      "Generator loss: 2.3969, Discriminator loss: -0.4509\n",
      "Epoch 74/200 ========================================\n",
      "Generator loss: 3.6116, Discriminator loss: -3.2901\n",
      "Epoch 75/200 ========================================\n",
      "Generator loss: 2.5861, Discriminator loss: -1.8102\n",
      "Epoch 76/200 ========================================\n",
      "Generator loss: 4.8114, Discriminator loss: -0.4448\n",
      "Epoch 77/200 ========================================\n",
      "Generator loss: 2.7237, Discriminator loss: -0.3090\n",
      "Epoch 78/200 ========================================\n",
      "Generator loss: 5.0952, Discriminator loss: -2.7655\n",
      "Epoch 79/200 ========================================\n",
      "Generator loss: -3.7460, Discriminator loss: -3.6499\n",
      "Epoch 80/200 ========================================\n",
      "Generator loss: 0.2975, Discriminator loss: -0.4007\n",
      "Epoch 81/200 ========================================\n",
      "Generator loss: 0.9510, Discriminator loss: 0.6867\n",
      "Epoch 82/200 ========================================\n",
      "Generator loss: 2.4473, Discriminator loss: -1.6657\n",
      "Epoch 83/200 ========================================\n",
      "Generator loss: -0.9451, Discriminator loss: -0.3944\n",
      "Epoch 84/200 ========================================\n",
      "Generator loss: -5.4642, Discriminator loss: -0.4010\n",
      "Epoch 85/200 ========================================\n",
      "Generator loss: -5.0674, Discriminator loss: -0.3622\n",
      "Epoch 86/200 ========================================\n",
      "Generator loss: -5.0696, Discriminator loss: -1.2782\n",
      "Epoch 87/200 ========================================\n",
      "Generator loss: 4.2069, Discriminator loss: 0.3057\n",
      "Epoch 88/200 ========================================\n",
      "Generator loss: 1.7042, Discriminator loss: -1.0051\n",
      "Epoch 89/200 ========================================\n",
      "Generator loss: 2.2198, Discriminator loss: -2.3859\n",
      "Epoch 90/200 ========================================\n",
      "Generator loss: -5.3786, Discriminator loss: 1.3087\n",
      "Epoch 91/200 ========================================\n",
      "Generator loss: 0.8275, Discriminator loss: -0.4702\n",
      "Epoch 92/200 ========================================\n",
      "Generator loss: 0.1809, Discriminator loss: 2.6920\n",
      "Epoch 93/200 ========================================\n",
      "Generator loss: 0.0511, Discriminator loss: -2.0167\n",
      "Epoch 94/200 ========================================\n",
      "Generator loss: -3.1327, Discriminator loss: -2.0916\n",
      "Epoch 95/200 ========================================\n",
      "Generator loss: 4.0755, Discriminator loss: -1.8721\n",
      "Epoch 96/200 ========================================\n",
      "Generator loss: -3.3182, Discriminator loss: -1.3224\n",
      "Epoch 97/200 ========================================\n",
      "Generator loss: -3.7451, Discriminator loss: -0.5189\n",
      "Epoch 98/200 ========================================\n",
      "Generator loss: 1.6955, Discriminator loss: -0.1849\n",
      "Epoch 99/200 ========================================\n",
      "Generator loss: -4.5130, Discriminator loss: -1.2472\n",
      "Epoch 100/200 ========================================\n",
      "Generator loss: -2.0050, Discriminator loss: -2.3164\n",
      "Epoch 101/200 ========================================\n",
      "Generator loss: -1.7031, Discriminator loss: -0.0168\n",
      "Epoch 102/200 ========================================\n",
      "Generator loss: -3.5960, Discriminator loss: 1.3923\n",
      "Epoch 103/200 ========================================\n",
      "Generator loss: -2.8238, Discriminator loss: -2.4665\n",
      "Epoch 104/200 ========================================\n",
      "Generator loss: -2.4356, Discriminator loss: -1.3156\n",
      "Epoch 105/200 ========================================\n",
      "Generator loss: 0.1643, Discriminator loss: -1.1087\n",
      "Epoch 106/200 ========================================\n",
      "Generator loss: 2.4967, Discriminator loss: -0.8876\n",
      "Epoch 107/200 ========================================\n",
      "Generator loss: 1.6186, Discriminator loss: -1.2313\n",
      "Epoch 108/200 ========================================\n",
      "Generator loss: -6.0438, Discriminator loss: -0.4726\n",
      "Epoch 109/200 ========================================\n",
      "Generator loss: -0.8665, Discriminator loss: 1.1582\n",
      "Epoch 110/200 ========================================\n",
      "Generator loss: -0.5445, Discriminator loss: 0.7507\n",
      "Epoch 111/200 ========================================\n",
      "Generator loss: -0.7229, Discriminator loss: -0.3926\n",
      "Epoch 112/200 ========================================\n",
      "Generator loss: -1.8537, Discriminator loss: -1.1857\n",
      "Epoch 113/200 ========================================\n",
      "Generator loss: -1.3684, Discriminator loss: -0.2755\n",
      "Epoch 114/200 ========================================\n",
      "Generator loss: 1.6398, Discriminator loss: -0.4821\n",
      "Epoch 115/200 ========================================\n",
      "Generator loss: -2.1263, Discriminator loss: -1.9607\n",
      "Epoch 116/200 ========================================\n",
      "Generator loss: -1.3273, Discriminator loss: -0.6988\n",
      "Epoch 117/200 ========================================\n",
      "Generator loss: 0.2638, Discriminator loss: 0.9350\n",
      "Epoch 118/200 ========================================\n",
      "Generator loss: -5.9583, Discriminator loss: 2.8618\n",
      "Epoch 119/200 ========================================\n",
      "Generator loss: -0.4268, Discriminator loss: -1.4875\n",
      "Epoch 120/200 ========================================\n",
      "Generator loss: 0.2851, Discriminator loss: 2.1268\n",
      "Epoch 121/200 ========================================\n",
      "Generator loss: -0.9378, Discriminator loss: -2.0196\n",
      "Epoch 122/200 ========================================\n",
      "Generator loss: -1.8668, Discriminator loss: -1.6230\n",
      "Epoch 123/200 ========================================\n",
      "Generator loss: -3.3523, Discriminator loss: 0.0095\n",
      "Epoch 124/200 ========================================\n",
      "Generator loss: 1.8142, Discriminator loss: -1.8600\n",
      "Epoch 125/200 ========================================\n",
      "Generator loss: -4.7331, Discriminator loss: 0.1107\n",
      "Epoch 126/200 ========================================\n",
      "Generator loss: -2.1339, Discriminator loss: 0.4686\n",
      "Epoch 127/200 ========================================\n",
      "Generator loss: 1.8272, Discriminator loss: -1.1208\n",
      "Epoch 128/200 ========================================\n",
      "Generator loss: 3.0826, Discriminator loss: -1.6060\n",
      "Epoch 129/200 ========================================\n",
      "Generator loss: -1.0609, Discriminator loss: -0.9378\n",
      "Epoch 130/200 ========================================\n",
      "Generator loss: -2.4541, Discriminator loss: 0.9364\n",
      "Epoch 131/200 ========================================\n",
      "Generator loss: -9.2307, Discriminator loss: -0.5864\n",
      "Epoch 132/200 ========================================\n",
      "Generator loss: -5.3287, Discriminator loss: 1.2691\n",
      "Epoch 133/200 ========================================\n",
      "Generator loss: -5.2322, Discriminator loss: 0.1904\n",
      "Epoch 134/200 ========================================\n",
      "Generator loss: -5.4646, Discriminator loss: -2.2549\n",
      "Epoch 135/200 ========================================\n",
      "Generator loss: 1.4132, Discriminator loss: -1.5764\n",
      "Epoch 136/200 ========================================\n",
      "Generator loss: -2.2721, Discriminator loss: -1.0046\n",
      "Epoch 137/200 ========================================\n",
      "Generator loss: 0.0859, Discriminator loss: -1.3483\n",
      "Epoch 138/200 ========================================\n",
      "Generator loss: -1.1455, Discriminator loss: -0.2371\n",
      "Epoch 139/200 ========================================\n",
      "Generator loss: -0.0906, Discriminator loss: -1.7610\n",
      "Epoch 140/200 ========================================\n",
      "Generator loss: -2.4609, Discriminator loss: -1.4815\n",
      "Epoch 141/200 ========================================\n",
      "Generator loss: -4.9996, Discriminator loss: -1.0401\n",
      "Epoch 142/200 ========================================\n",
      "Generator loss: -4.9347, Discriminator loss: 0.5705\n",
      "Epoch 143/200 ========================================\n",
      "Generator loss: -3.9646, Discriminator loss: 0.3020\n",
      "Epoch 144/200 ========================================\n",
      "Generator loss: -4.9630, Discriminator loss: -0.1887\n",
      "Epoch 145/200 ========================================\n",
      "Generator loss: -3.2496, Discriminator loss: -0.8264\n",
      "Epoch 146/200 ========================================\n",
      "Generator loss: 1.3311, Discriminator loss: -2.8495\n",
      "Epoch 147/200 ========================================\n",
      "Generator loss: -0.2248, Discriminator loss: -1.4662\n",
      "Epoch 148/200 ========================================\n",
      "Generator loss: -2.8920, Discriminator loss: -0.4589\n",
      "Epoch 149/200 ========================================\n",
      "Generator loss: -0.8741, Discriminator loss: -0.2131\n",
      "Epoch 150/200 ========================================\n",
      "Generator loss: -2.3632, Discriminator loss: -0.2832\n",
      "Epoch 151/200 ========================================\n",
      "Generator loss: -2.7297, Discriminator loss: 0.8433\n",
      "Epoch 152/200 ========================================\n",
      "Generator loss: -4.2624, Discriminator loss: -0.8233\n",
      "Epoch 153/200 ========================================\n",
      "Generator loss: -1.4370, Discriminator loss: -0.6354\n",
      "Epoch 154/200 ========================================\n",
      "Generator loss: -4.2215, Discriminator loss: -0.9447\n",
      "Epoch 155/200 ========================================\n",
      "Generator loss: -0.2355, Discriminator loss: -1.8002\n",
      "Epoch 156/200 ========================================\n",
      "Generator loss: -1.1189, Discriminator loss: 0.2425\n",
      "Epoch 157/200 ========================================\n",
      "Generator loss: 0.4789, Discriminator loss: -1.2170\n",
      "Epoch 158/200 ========================================\n",
      "Generator loss: -1.7619, Discriminator loss: -0.8956\n",
      "Epoch 159/200 ========================================\n",
      "Generator loss: -2.8260, Discriminator loss: 0.2452\n",
      "Epoch 160/200 ========================================\n",
      "Generator loss: -1.7227, Discriminator loss: -1.8132\n",
      "Epoch 161/200 ========================================\n",
      "Generator loss: 1.2604, Discriminator loss: 0.0511\n",
      "Epoch 162/200 ========================================\n",
      "Generator loss: 0.3832, Discriminator loss: -2.3025\n",
      "Epoch 163/200 ========================================\n",
      "Generator loss: 2.1477, Discriminator loss: -2.4336\n",
      "Epoch 164/200 ========================================\n",
      "Generator loss: 0.3979, Discriminator loss: -2.5595\n",
      "Epoch 165/200 ========================================\n",
      "Generator loss: -2.6761, Discriminator loss: -0.9740\n",
      "Epoch 166/200 ========================================\n",
      "Generator loss: -1.6458, Discriminator loss: -0.2282\n",
      "Epoch 167/200 ========================================\n",
      "Generator loss: -0.9646, Discriminator loss: -0.3580\n",
      "Epoch 168/200 ========================================\n",
      "Generator loss: 3.1742, Discriminator loss: 0.0920\n",
      "Epoch 169/200 ========================================\n",
      "Generator loss: -6.0765, Discriminator loss: 0.0110\n",
      "Epoch 170/200 ========================================\n",
      "Generator loss: 0.1210, Discriminator loss: 1.1246\n",
      "Epoch 171/200 ========================================\n",
      "Generator loss: -4.7077, Discriminator loss: 1.0900\n",
      "Epoch 172/200 ========================================\n",
      "Generator loss: -0.3024, Discriminator loss: 0.7146\n",
      "Epoch 173/200 ========================================\n",
      "Generator loss: -5.2714, Discriminator loss: -0.7280\n",
      "Epoch 174/200 ========================================\n",
      "Generator loss: -2.7621, Discriminator loss: 0.3960\n",
      "Epoch 175/200 ========================================\n",
      "Generator loss: -4.7075, Discriminator loss: 0.8875\n",
      "Epoch 176/200 ========================================\n",
      "Generator loss: -6.4661, Discriminator loss: -0.3544\n",
      "Epoch 177/200 ========================================\n",
      "Generator loss: -1.6197, Discriminator loss: -1.5915\n",
      "Epoch 178/200 ========================================\n",
      "Generator loss: -5.1910, Discriminator loss: -2.7755\n",
      "Epoch 179/200 ========================================\n",
      "Generator loss: -4.6619, Discriminator loss: 0.7117\n",
      "Epoch 180/200 ========================================\n",
      "Generator loss: -2.7876, Discriminator loss: -1.1687\n",
      "Epoch 181/200 ========================================\n",
      "Generator loss: -1.6575, Discriminator loss: -0.2866\n",
      "Epoch 182/200 ========================================\n",
      "Generator loss: 1.1891, Discriminator loss: -0.9110\n",
      "Epoch 183/200 ========================================\n",
      "Generator loss: -2.8153, Discriminator loss: 0.1717\n",
      "Epoch 184/200 ========================================\n",
      "Generator loss: -0.9720, Discriminator loss: -1.1796\n",
      "Epoch 185/200 ========================================\n",
      "Generator loss: -3.0551, Discriminator loss: -0.8282\n",
      "Epoch 186/200 ========================================\n",
      "Generator loss: -1.7004, Discriminator loss: -0.7793\n",
      "Epoch 187/200 ========================================\n",
      "Generator loss: -1.5010, Discriminator loss: -0.8405\n",
      "Epoch 188/200 ========================================\n",
      "Generator loss: 1.6868, Discriminator loss: -2.2332\n",
      "Epoch 189/200 ========================================\n",
      "Generator loss: -1.7785, Discriminator loss: -0.3843\n",
      "Epoch 190/200 ========================================\n",
      "Generator loss: -0.5269, Discriminator loss: -1.8961\n",
      "Epoch 191/200 ========================================\n",
      "Generator loss: 0.9494, Discriminator loss: -0.8155\n",
      "Epoch 192/200 ========================================\n",
      "Generator loss: -1.4682, Discriminator loss: -0.7102\n",
      "Epoch 193/200 ========================================\n",
      "Generator loss: -0.1796, Discriminator loss: -1.2482\n",
      "Epoch 194/200 ========================================\n",
      "Generator loss: -6.1992, Discriminator loss: -0.0787\n",
      "Epoch 195/200 ========================================\n",
      "Generator loss: -2.3817, Discriminator loss: -1.2217\n",
      "Epoch 196/200 ========================================\n",
      "Generator loss: -3.7603, Discriminator loss: -0.3540\n",
      "Epoch 197/200 ========================================\n",
      "Generator loss: -2.3099, Discriminator loss: 0.3109\n",
      "Epoch 198/200 ========================================\n",
      "Generator loss: -3.4231, Discriminator loss: 0.1180\n",
      "Epoch 199/200 ========================================\n",
      "Generator loss: -5.6685, Discriminator loss: 0.9457\n",
      "Epoch 200/200 ========================================\n",
      "Generator loss: -3.6918, Discriminator loss: -0.5634\n"
     ]
    }
   ],
   "source": [
    "def train_step(images):\n",
    "    noise = tf.random.normal([images.shape[0], noise_dim])\n",
    "\n",
    "    with tf.GradientTape() as gen_tape, tf.GradientTape() as disc_tape:\n",
    "        fake_images = generator(noise, training=True)\n",
    "\n",
    "        real_output = discriminator(images, training=True)\n",
    "        fake_output = discriminator(fake_images, training=True)\n",
    "\n",
    "        gp = gradient_penalty(images, fake_images)\n",
    "        gen_loss = generator_loss(fake_output)\n",
    "        disc_loss = discriminator_loss(real_output, fake_output, gp)\n",
    "\n",
    "    gradients_of_generator = gen_tape.gradient(gen_loss, generator.trainable_variables)\n",
    "    generator_optimizer.apply_gradients(zip(gradients_of_generator, generator.trainable_variables))\n",
    "\n",
    "    gradients_of_discriminator = disc_tape.gradient(disc_loss, discriminator.trainable_variables)\n",
    "    discriminator_optimizer.apply_gradients(zip(gradients_of_discriminator, discriminator.trainable_variables))\n",
    "\n",
    "    return gen_loss, disc_loss\n",
    "\n",
    "\n",
    "# Training loop\n",
    "def train(dataset, epochs):\n",
    "    for epoch in range(epochs):\n",
    "        print(f\"Epoch {epoch + 1}/{epochs}\", '=' * 40)\n",
    "        for batch in dataset:\n",
    "            gen_loss, disc_loss = train_step(batch)\n",
    "        print(f\"Generator loss: {gen_loss:.4f}, Discriminator loss: {disc_loss:.4f}\")\n",
    "\n",
    "# Train the model\n",
    "train(dataset, epochs)"
   ]
  },
  {
   "cell_type": "code",
   "execution_count": null,
   "id": "4df4d6bd",
   "metadata": {
    "papermill": {
     "duration": 0.018817,
     "end_time": "2024-12-24T15:10:19.402581",
     "exception": false,
     "start_time": "2024-12-24T15:10:19.383764",
     "status": "completed"
    },
    "tags": []
   },
   "outputs": [],
   "source": []
  },
  {
   "cell_type": "code",
   "execution_count": 16,
   "id": "da5e1f60",
   "metadata": {
    "execution": {
     "iopub.execute_input": "2024-12-24T15:10:19.453676Z",
     "iopub.status.busy": "2024-12-24T15:10:19.453404Z",
     "iopub.status.idle": "2024-12-24T15:10:19.684403Z",
     "shell.execute_reply": "2024-12-24T15:10:19.683397Z"
    },
    "papermill": {
     "duration": 0.260229,
     "end_time": "2024-12-24T15:10:19.685953",
     "exception": false,
     "start_time": "2024-12-24T15:10:19.425724",
     "status": "completed"
    },
    "tags": []
   },
   "outputs": [
    {
     "data": {
      "image/png": "[encoded data removed]",
      "text/plain": [
       "<Figure size 640x480 with 1 Axes>"
      ]
     },
     "metadata": {},
     "output_type": "display_data"
    }
   ],
   "source": [
    "import matplotlib.pyplot as plt\n",
    "\n",
    "noise = tf.random.normal([1, 100])\n",
    "generated_image = generator(noise, training=False)\n",
    "reshaped_image = tf.reshape(generated_image, (img_size, img_size))  # Reshape using TensorFlow\n",
    "\n",
    "plt.imshow(reshaped_image, cmap='gray')\n",
    "plt.show()"
   ]
  },
  {
   "cell_type": "code",
   "execution_count": null,
   "id": "feda7bb1",
   "metadata": {
    "papermill": {
     "duration": 0.015905,
     "end_time": "2024-12-24T15:10:19.719666",
     "exception": false,
     "start_time": "2024-12-24T15:10:19.703761",
     "status": "completed"
    },
    "tags": []
   },
   "outputs": [],
   "source": []
  },
  {
   "cell_type": "code",
   "execution_count": 17,
   "id": "6b37eb20",
   "metadata": {
    "execution": {
     "iopub.execute_input": "2024-12-24T15:10:19.752692Z",
     "iopub.status.busy": "2024-12-24T15:10:19.752444Z",
     "iopub.status.idle": "2024-12-24T15:10:20.232286Z",
     "shell.execute_reply": "2024-12-24T15:10:20.230748Z"
    },
    "papermill": {
     "duration": 0.498712,
     "end_time": "2024-12-24T15:10:20.234512",
     "exception": false,
     "start_time": "2024-12-24T15:10:19.735800",
     "status": "completed"
    },
    "tags": []
   },
   "outputs": [
    {
     "data": {
      "image/png": "[encoded data removed]",
      "text/plain": [
       "<Figure size 400x400 with 16 Axes>"
      ]
     },
     "metadata": {},
     "output_type": "display_data"
    }
   ],
   "source": [
    "# Save the generator weights to a file\n",
    "generator.save_weights('generator_weights.weights.h5')\n",
    "\n",
    "# Load the generator weights from the file\n",
    "generator.load_weights('generator_weights.weights.h5')\n",
    "\n",
    "# Generate some fake images using the trained generator\n",
    "noise = tf.random.normal([16, noise_dim])\n",
    "generated_images = generator(noise, training=False)\n",
    "\n",
    "# Plot the generated images\n",
    "fig = plt.figure(figsize=(4, 4))\n",
    "for i in range(generated_images.shape[0]):\n",
    "    plt.subplot(4, 4, i + 1)\n",
    "    # Rescale the images from [-1, 1] to [0, 1] before displaying\n",
    "    plt.imshow((generated_images[i] * 0.5 + 0.5).numpy(), cmap='gray')\n",
    "    plt.axis('off')\n",
    "plt.show()"
   ]
  },
  {
   "cell_type": "code",
   "execution_count": null,
   "id": "0d22d746",
   "metadata": {
    "papermill": {
     "duration": 0.017166,
     "end_time": "2024-12-24T15:10:20.290559",
     "exception": false,
     "start_time": "2024-12-24T15:10:20.273393",
     "status": "completed"
    },
    "tags": []
   },
   "outputs": [],
   "source": []
  },
  {
   "cell_type": "code",
   "execution_count": null,
   "id": "61687cdf",
   "metadata": {
    "papermill": {
     "duration": 0.018348,
     "end_time": "2024-12-24T15:10:20.326058",
     "exception": false,
     "start_time": "2024-12-24T15:10:20.307710",
     "status": "completed"
    },
    "tags": []
   },
   "outputs": [],
   "source": []
  },
  {
   "cell_type": "code",
   "execution_count": null,
   "id": "18b024a9",
   "metadata": {
    "papermill": {
     "duration": 0.017463,
     "end_time": "2024-12-24T15:10:20.360778",
     "exception": false,
     "start_time": "2024-12-24T15:10:20.343315",
     "status": "completed"
    },
    "tags": []
   },
   "outputs": [],
   "source": []
  }
 ],
 "metadata": {
  "kaggle": {
   "accelerator": "none",
   "dataSources": [],
   "dockerImageVersionId": 30822,
   "isGpuEnabled": false,
   "isInternetEnabled": true,
   "language": "python",
   "sourceType": "notebook"
  },
  "kernelspec": {
   "display_name": "Python 3",
   "language": "python",
   "name": "python3"
  },
  "language_info": {
   "codemirror_mode": {
    "name": "ipython",
    "version": 3
   },
   "file_extension": ".py",
   "mimetype": "text/x-python",
   "name": "python",
   "nbconvert_exporter": "python",
   "pygments_lexer": "ipython3",
   "version": "3.10.12"
  },
  "papermill": {
   "default_parameters": {},
   "duration": 8890.136467,
   "end_time": "2024-12-24T15:10:21.909154",
   "environment_variables": {},
   "exception": null,
   "input_path": "__notebook__.ipynb",
   "output_path": "__notebook__.ipynb",
   "parameters": {},
   "start_time": "2024-12-24T12:42:11.772687",
   "version": "2.6.0"
  }
 },
 "nbformat": 4,
 "nbformat_minor": 5
}
